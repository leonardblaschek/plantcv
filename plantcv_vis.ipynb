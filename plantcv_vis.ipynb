{
 "cells": [
  {
   "cell_type": "code",
   "execution_count": null,
   "metadata": {},
   "outputs": [],
   "source": [
    "#!/home/leonard/Applications/anaconda3/bin/python\n",
    "%matplotlib inline\n",
    "import sys, traceback\n",
    "import cv2\n",
    "import numpy as np\n",
    "import argparse\n",
    "import string\n",
    "from plantcv import plantcv as pcv\n",
    "\n",
    "### Parse command-line arguments\n",
    "def options():\n",
    "    parser = argparse.ArgumentParser(description=\"Imaging processing with opencv\")\n",
    "    parser.add_argument(\"-i\", \"--image\", help=\"Input image file.\", required=True)\n",
    "    parser.add_argument(\"-o\", \"--outdir\", help=\"Output directory for image files.\", required=False)\n",
    "    parser.add_argument(\"-r\",\"--result\", help=\"result file.\", required= False )\n",
    "    parser.add_argument(\"-w\",\"--writeimg\", help=\"write out images.\", default=False, action=\"store_true\")\n",
    "    parser.add_argument(\"-D\", \"--debug\", help=\"can be set to 'print' or None (or 'plot' if in jupyter) prints intermediate images.\", default=None)\n",
    "    args = parser.parse_args()\n",
    "    return args\n",
    "\n",
    "# Set variables\n",
    "debug = 'plot'                                # Plot debug images to the notebook\n"
   ]
  }
 ],
 "metadata": {
  "kernelspec": {
   "display_name": "Python 3",
   "language": "python",
   "name": "python3"
  },
  "language_info": {
   "codemirror_mode": {
    "name": "ipython",
    "version": 3
   },
   "file_extension": ".py",
   "mimetype": "text/x-python",
   "name": "python",
   "nbconvert_exporter": "python",
   "pygments_lexer": "ipython3",
   "version": "3.7.1"
  }
 },
 "nbformat": 4,
 "nbformat_minor": 2
}
